{
 "cells": [
  {
   "cell_type": "code",
   "execution_count": 2,
   "id": "84701944",
   "metadata": {},
   "outputs": [
    {
     "name": "stdout",
     "output_type": "stream",
     "text": [
      "a\n",
      "b\n",
      "c\n"
     ]
    }
   ],
   "source": [
    "list = [\"a\", \"b\", \"c\"]\n",
    "for i in list:\n",
    "    print(i)"
   ]
  },
  {
   "cell_type": "code",
   "execution_count": 26,
   "id": "800dd991",
   "metadata": {},
   "outputs": [
    {
     "name": "stdout",
     "output_type": "stream",
     "text": [
      "Input a list of student heights 100 200 300 400\n",
      "250\n"
     ]
    }
   ],
   "source": [
    "# 🚨 Don't change the code below 👇\n",
    "student_heights = input(\"Input a list of student heights \").split()\n",
    "for n in range(0, len(student_heights)):\n",
    "  student_heights[n] = int(student_heights[n])\n",
    "# 🚨 Don't change the code above 👆\n",
    "\n",
    "\n",
    "#Write your code below this row 👇\n",
    "sumst = 0\n",
    "for i in student_heights:\n",
    "    sumst += i\n",
    "\n",
    "devid = 0\n",
    "for u in student_heights:\n",
    "    devid += 1\n",
    "\n",
    "print(round(int(sumst/devid)))"
   ]
  },
  {
   "cell_type": "code",
   "execution_count": 45,
   "id": "5a634acc",
   "metadata": {},
   "outputs": [
    {
     "name": "stdout",
     "output_type": "stream",
     "text": [
      "Input a list of student scores 100 200 300 400 500\n",
      "[100, 200, 300, 400, 500]\n",
      "The highest score in the class is: 500\n"
     ]
    }
   ],
   "source": [
    "# 🚨 Don't change the code below 👇\n",
    "student_scores = input(\"Input a list of student scores \").split()\n",
    "for n in range(0, len(student_scores)):\n",
    "  student_scores[n] = int(student_scores[n])\n",
    "print(student_scores)\n",
    "# 🚨 Don't change the code above 👆\n",
    "\n",
    "#Write your code below this row 👇\n",
    "maxvalue = 0\n",
    "for i in student_scores:\n",
    "    if i > maxvalue:\n",
    "        maxvalue = i\n",
    "        \n",
    "print(f\"The highest score in the class is: {maxvalue}\")"
   ]
  },
  {
   "cell_type": "code",
   "execution_count": 51,
   "id": "0e82f36b",
   "metadata": {},
   "outputs": [
    {
     "name": "stdout",
     "output_type": "stream",
     "text": [
      "2550\n"
     ]
    }
   ],
   "source": [
    "#Write your code below this row 👇\n",
    "a = 0\n",
    "for i in range (1, 101):\n",
    "    if i%2 == 0:\n",
    "        a += i\n",
    "print(a)"
   ]
  },
  {
   "cell_type": "code",
   "execution_count": 67,
   "id": "6783ce3d",
   "metadata": {
    "scrolled": false
   },
   "outputs": [
    {
     "name": "stdout",
     "output_type": "stream",
     "text": [
      "1\n",
      "2\n",
      "Fizz\n",
      "4\n",
      "Buzz\n",
      "Fizz\n",
      "7\n",
      "8\n",
      "Fizz\n",
      "Buzz\n",
      "11\n",
      "Fizz\n",
      "13\n",
      "14\n",
      "FizzBuzz\n",
      "16\n",
      "17\n",
      "Fizz\n",
      "19\n",
      "Buzz\n",
      "Fizz\n",
      "22\n",
      "23\n",
      "Fizz\n",
      "Buzz\n",
      "26\n",
      "Fizz\n",
      "28\n",
      "29\n",
      "FizzBuzz\n",
      "31\n",
      "32\n",
      "Fizz\n",
      "34\n",
      "Buzz\n",
      "Fizz\n",
      "37\n",
      "38\n",
      "Fizz\n",
      "Buzz\n",
      "41\n",
      "Fizz\n",
      "43\n",
      "44\n",
      "FizzBuzz\n",
      "46\n",
      "47\n",
      "Fizz\n",
      "49\n",
      "Buzz\n",
      "Fizz\n",
      "52\n",
      "53\n",
      "Fizz\n",
      "Buzz\n",
      "56\n",
      "Fizz\n",
      "58\n",
      "59\n",
      "FizzBuzz\n",
      "61\n",
      "62\n",
      "Fizz\n",
      "64\n",
      "Buzz\n",
      "Fizz\n",
      "67\n",
      "68\n",
      "Fizz\n",
      "Buzz\n",
      "71\n",
      "Fizz\n",
      "73\n",
      "74\n",
      "FizzBuzz\n",
      "76\n",
      "77\n",
      "Fizz\n",
      "79\n",
      "Buzz\n",
      "Fizz\n",
      "82\n",
      "83\n",
      "Fizz\n",
      "Buzz\n",
      "86\n",
      "Fizz\n",
      "88\n",
      "89\n",
      "FizzBuzz\n",
      "91\n",
      "92\n",
      "Fizz\n",
      "94\n",
      "Buzz\n",
      "Fizz\n",
      "97\n",
      "98\n",
      "Fizz\n",
      "Buzz\n"
     ]
    }
   ],
   "source": [
    "for i in range(1, 101):\n",
    "    if (i % 5 == 0) and (i % 3) == 0:\n",
    "        print(\"FizzBuzz\")\n",
    "    elif i % 5 == 0:\n",
    "        print(\"Buzz\")\n",
    "    elif i % 3 == 0:\n",
    "        print(\"Fizz\")\n",
    "    else:\n",
    "        print(i)"
   ]
  },
  {
   "cell_type": "code",
   "execution_count": 74,
   "id": "3aee4cb4",
   "metadata": {
    "scrolled": false
   },
   "outputs": [
    {
     "name": "stdout",
     "output_type": "stream",
     "text": [
      "Welcome to the random password generator...\n",
      "the number of letters: 5\n",
      "the number of numbers: 5\n",
      "the number of letters: 5\n",
      "CDUbS16107(@.,>\n"
     ]
    }
   ],
   "source": [
    "import random\n",
    "\n",
    "letters = [\n",
    "    'a', 'b', 'c', 'd', 'e', 'f', 'g', 'h', 'i', 'j', 'k', 'l', 'm',\n",
    "    'n', 'o', 'p', 'q', 'r', 's', 't', 'u', 'v', 'w', 'x', 'y', 'z',\n",
    "    'A', 'B', 'C', 'D', 'E', 'F', 'G', 'H', 'I', 'J', 'K', 'L', 'M',\n",
    "    'N', 'O', 'P', 'Q', 'R', 'S', 'T', 'U', 'V', 'W', 'X', 'Y', 'Z',\n",
    "]\n",
    "\n",
    "numbers = ['0', '1', '2', '3', '4', '5', '6', '7', '8', '9']\n",
    "\n",
    "characters = ['!', '@', '#', '$', '%', '^', '&', '*', '(', ')', '_', '+', \n",
    "              '[', ']', '{', '}', '|', ';', ':', ',', '.', '<', '>', '?']\n",
    "\n",
    "print(\"Welcome to the random password generator...\")\n",
    "\n",
    "password = \"\"\n",
    "\n",
    "nrlet = int(input(\"the number of letters: \"))\n",
    "\n",
    "nrnum = int(input(\"the number of numbers: \"))\n",
    "\n",
    "nrchar = int(input(\"the number of letters: \"))\n",
    "\n",
    "for i in range(1, nrlet +1):\n",
    "    password +=random.choice(letters)\n",
    "\n",
    "for i in range(1, nrnum +1):\n",
    "    password +=random.choice(numbers)\n",
    "\n",
    "for i in range(1, nrchar +1):\n",
    "    password +=random.choice(characters)\n",
    "    \n",
    "print(password)"
   ]
  },
  {
   "cell_type": "code",
   "execution_count": 79,
   "id": "55f54836",
   "metadata": {},
   "outputs": [
    {
     "name": "stdout",
     "output_type": "stream",
     "text": [
      "Welcome to the random password generator...\n",
      "the number of letters: 5\n",
      "the number of numbers: 1\n",
      "the number of letters: 9\n",
      "[',', 'D', 'G', ']', '#', '(', 'z', 'M', '<', '1', '_', '$', '{', 'T', '(']\n",
      ",DG]#(zM<1_${T(\n"
     ]
    }
   ],
   "source": [
    "print(\"Welcome to the random password generator...\")\n",
    "\n",
    "password_list = []\n",
    "\n",
    "nrlet = int(input(\"the number of letters: \"))\n",
    "\n",
    "nrnum = int(input(\"the number of numbers: \"))\n",
    "\n",
    "nrchar = int(input(\"the number of letters: \"))\n",
    "\n",
    "for i in range(1, nrlet +1):\n",
    "    password_list +=random.choice(letters)\n",
    "\n",
    "for i in range(1, nrnum +1):\n",
    "    password_list +=random.choice(numbers)\n",
    "\n",
    "for i in range(1, nrchar +1):\n",
    "    password_list +=random.choice(characters)\n",
    "    \n",
    "random.shuffle(password_list)\n",
    "\n",
    "print(password_list)\n",
    "\n",
    "password = \"\"\n",
    "for i in password_list:\n",
    "    password += i\n",
    "\n",
    "print(password)"
   ]
  }
 ],
 "metadata": {
  "kernelspec": {
   "display_name": "Python 3 (ipykernel)",
   "language": "python",
   "name": "python3"
  },
  "language_info": {
   "codemirror_mode": {
    "name": "ipython",
    "version": 3
   },
   "file_extension": ".py",
   "mimetype": "text/x-python",
   "name": "python",
   "nbconvert_exporter": "python",
   "pygments_lexer": "ipython3",
   "version": "3.11.4"
  }
 },
 "nbformat": 4,
 "nbformat_minor": 5
}
