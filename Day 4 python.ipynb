{
 "cells": [
  {
   "cell_type": "code",
   "execution_count": 10,
   "id": "be16347b",
   "metadata": {},
   "outputs": [
    {
     "name": "stdout",
     "output_type": "stream",
     "text": [
      "Heads\n"
     ]
    }
   ],
   "source": [
    "#Remember to use the random module\n",
    "#Hint: Remember to import the random module here at the top of the file. 🎲\n",
    "import random\n",
    "#Write the rest of your code below this line 👇\n",
    "\n",
    "randomg = random.randint(0,1)\n",
    "zero = \"Heads\"\n",
    "one = \"Tails\"\n",
    "if randomg == 0:\n",
    "    print(\"Heads\")\n",
    "else:\n",
    "    print(\"Tails\")"
   ]
  },
  {
   "cell_type": "code",
   "execution_count": 11,
   "id": "05711437",
   "metadata": {},
   "outputs": [
    {
     "name": "stdout",
     "output_type": "stream",
     "text": [
      "Give me everybody's names, separated by a comma. Ben, Jenny, Johnson\n",
      "Jenny is going to buy the meal today!\n"
     ]
    }
   ],
   "source": [
    "import random \n",
    "# Split string method\n",
    "names_string = input(\"Give me everybody's names, separated by a comma. \")\n",
    "names = names_string.split(\", \")\n",
    "\n",
    "numitems = len(names)\n",
    "\n",
    "randchoice = random.randint(0, numitems-1)\n",
    "\n",
    "person = names[randchoice]\n",
    "\n",
    "print(f\"{person} is going to buy the meal today!\")"
   ]
  },
  {
   "cell_type": "code",
   "execution_count": 17,
   "id": "9820156e",
   "metadata": {},
   "outputs": [
    {
     "name": "stdout",
     "output_type": "stream",
     "text": [
      "['⬜️', '️⬜️', '️⬜️']\n",
      "['⬜️', '⬜️', '️⬜️']\n",
      "['⬜️️', '⬜️️', '⬜️️']\n",
      "Where do you want to put the treasure? 22\n",
      "['⬜️', '️⬜️', '️⬜️']\n",
      "['⬜️', 'X', '️⬜️']\n",
      "['⬜️️', '⬜️️', '⬜️️']\n"
     ]
    }
   ],
   "source": [
    "# 🚨 Don't change the code below 👇\n",
    "row1 = [\"⬜️\",\"️⬜️\",\"️⬜️\"]\n",
    "row2 = [\"⬜️\",\"⬜️\",\"️⬜️\"]\n",
    "row3 = [\"⬜️️\",\"⬜️️\",\"⬜️️\"]\n",
    "map = [row1, row2, row3]\n",
    "print(f\"{row1}\\n{row2}\\n{row3}\")\n",
    "position = input(\"Where do you want to put the treasure? \")\n",
    "# 🚨 Don't change the code above 👆\n",
    "\n",
    "#Write your code below this row 👇\n",
    "horizontal = int(position[0]) #2\n",
    "vertical = int(position[1]) #3\n",
    "\n",
    "map[vertical-1][horizontal -1] = \"X\"\n",
    "\n",
    "\n",
    "#Write your code above this row 👆\n",
    "\n",
    "# 🚨 Don't change the code below 👇\n",
    "print(f\"{row1}\\n{row2}\\n{row3}\")\n"
   ]
  },
  {
   "cell_type": "code",
   "execution_count": 26,
   "id": "e9230889",
   "metadata": {},
   "outputs": [
    {
     "name": "stdout",
     "output_type": "stream",
     "text": [
      "Choose one (rock, paper, scissors): rgea\n",
      "You chose: rgea\n",
      "Computer chose: rock\n",
      "You have WRONG input. Fix please.\n"
     ]
    }
   ],
   "source": [
    "import random\n",
    "\n",
    "choices = [\"rock\", \"scissors\", \"paper\"]\n",
    "\n",
    "\n",
    "person = input(\"Choose one (rock, paper, scissors): \")\n",
    "computer = random.choice(choices)\n",
    "\n",
    "\n",
    "print(\"You chose:\", person)\n",
    "print(\"Computer chose:\", computer)\n",
    "\n",
    "if person == computer:\n",
    "    print(\"It is a tie\")\n",
    "elif person == \"rock\" and computer == \"scissors\":\n",
    "    print(\"You won\")\n",
    "elif person == \"rock\" and computer == \"paper\":\n",
    "    print(\"PC won\")\n",
    "elif person == \"scissors\" and computer == \"paper\":\n",
    "    print(\"You won\")\n",
    "elif person == \"scissors\" and computer == \"rock\":\n",
    "    print(\"PC won\")\n",
    "elif person == \"paper\" and computer == \"rock\":\n",
    "    print(\"You won\")\n",
    "elif person == \"paper\" and computer == \"scissors\":\n",
    "    print(\"PC won\")\n",
    "else:\n",
    "    print(\"You have WRONG input. Fix please.\")"
   ]
  }
 ],
 "metadata": {
  "kernelspec": {
   "display_name": "Python 3 (ipykernel)",
   "language": "python",
   "name": "python3"
  },
  "language_info": {
   "codemirror_mode": {
    "name": "ipython",
    "version": 3
   },
   "file_extension": ".py",
   "mimetype": "text/x-python",
   "name": "python",
   "nbconvert_exporter": "python",
   "pygments_lexer": "ipython3",
   "version": "3.11.4"
  }
 },
 "nbformat": 4,
 "nbformat_minor": 5
}
