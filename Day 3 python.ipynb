{
 "cells": [
  {
   "cell_type": "code",
   "execution_count": 3,
   "id": "acc15612",
   "metadata": {},
   "outputs": [
    {
     "name": "stdout",
     "output_type": "stream",
     "text": [
      "Which number do you want to check? 127\n",
      "This is an odd number.\n"
     ]
    }
   ],
   "source": [
    "# 🚨 Don't change the code below 👇\n",
    "number = int(input(\"Which number do you want to check? \"))\n",
    "# 🚨 Don't change the code above 👆\n",
    "\n",
    "#Write your code below this line 👇\n",
    "if (number %2) == 1:\n",
    "    print(\"This is an odd number.\")\n",
    "else:\n",
    "    print(\"This is an even number.\")"
   ]
  },
  {
   "cell_type": "code",
   "execution_count": 4,
   "id": "c446b1e9",
   "metadata": {},
   "outputs": [
    {
     "name": "stdout",
     "output_type": "stream",
     "text": [
      "enter your height in m: 1.83\n",
      "enter your weight in kg: 82\n",
      "Your BMI is 24, you have a normal weight.\n"
     ]
    }
   ],
   "source": [
    "# 🚨 Don't change the code below 👇\n",
    "height = float(input(\"enter your height in m: \"))\n",
    "weight = float(input(\"enter your weight in kg: \"))\n",
    "# 🚨 Don't change the code above 👆\n",
    "\n",
    "#Write your code below this line 👇\n",
    "bmi = round(weight/(height*height))\n",
    "if bmi < 18.5:\n",
    "    print(f\"Your BMI is {bmi}, you are underweight.\")\n",
    "elif bmi < 25:\n",
    "    print(f\"Your BMI is {bmi}, you have a normal weight.\")\n",
    "elif bmi < 30:\n",
    "    print(f\"Your BMI is {bmi}, you are slightly overweight.\")\n",
    "elif bmi<35:\n",
    "    print(f\"Your BMI is {bmi}, you are obese.\")\n",
    "else:\n",
    "    print(f\"Your BMI is {bmi}, you are clinically obese.\")"
   ]
  },
  {
   "cell_type": "code",
   "execution_count": 5,
   "id": "95f3875f",
   "metadata": {},
   "outputs": [
    {
     "name": "stdout",
     "output_type": "stream",
     "text": [
      "Which year do you want to check? 2400\n",
      "Leap year.\n"
     ]
    }
   ],
   "source": [
    "# 🚨 Don't change the code below 👇\n",
    "year = int(input(\"Which year do you want to check? \"))\n",
    "# 🚨 Don't change the code above 👆\n",
    "\n",
    "#Write your code below this line 👇\n",
    "if year%4 == 0:\n",
    "    if year%100 == 0:\n",
    "        if year%400 == 0:\n",
    "            print(\"Leap year.\")\n",
    "        else:\n",
    "            print(\"Not leap year.\")\n",
    "    else:\n",
    "        print(\"Leap year.\")\n",
    "else:\n",
    "    print(\"Not leap year.\")"
   ]
  },
  {
   "cell_type": "code",
   "execution_count": 29,
   "id": "b6548f2a",
   "metadata": {},
   "outputs": [
    {
     "name": "stdout",
     "output_type": "stream",
     "text": [
      "Welcome to Python Pizza Deliveries!\n",
      "What size pizza do you want? S, M, or L S\n",
      "Do you want pepperoni? Y or N N\n",
      "Do you want extra cheese? Y or N Y\n",
      "Your final bill is: $16.\n"
     ]
    }
   ],
   "source": [
    "# 🚨 Don't change the code below 👇\n",
    "print(\"Welcome to Python Pizza Deliveries!\")\n",
    "size = input(\"What size pizza do you want? S, M, or L \")\n",
    "add_pepperoni = input(\"Do you want pepperoni? Y or N \")\n",
    "extra_cheese = input(\"Do you want extra cheese? Y or N \")\n",
    "# 🚨 Don't change the code above 👆\n",
    "\n",
    "#Write your code below this line 👇\n",
    "\n",
    "bill = 0\n",
    "\n",
    "if size == \"S\":\n",
    "    bill = 15\n",
    "    if add_pepperoni == \"Y\":\n",
    "        bill = bill+2\n",
    "    elif extra_cheese == \"Y\":\n",
    "        bill = bill+1\n",
    "    else:\n",
    "        bill = bill+0\n",
    "\n",
    "elif size == \"M\":\n",
    "    bill = 20\n",
    "    if add_pepperoni == \"Y\":\n",
    "        bill = bill+3\n",
    "    elif extra_cheese == \"Y\":\n",
    "        bill = bill+1\n",
    "    else:\n",
    "        bill = bill+0\n",
    "\n",
    "elif size == \"L\":\n",
    "    bill = 25\n",
    "    if add_pepperoni == \"Y\":\n",
    "        bill = bill+3\n",
    "    elif extra_cheese == \"Y\":\n",
    "        bill = bill+1\n",
    "    else:\n",
    "        bill = bill+0\n",
    "    \n",
    "\n",
    "bill = round(bill)\n",
    "print(f\"Your final bill is: ${bill}.\")"
   ]
  },
  {
   "cell_type": "code",
   "execution_count": 10,
   "id": "f4c6cb99",
   "metadata": {},
   "outputs": [
    {
     "name": "stdout",
     "output_type": "stream",
     "text": [
      "Welcome to the Love Calculator!\n",
      "What is your name? \n",
      "Jarek\n",
      "What is their name? \n",
      "Anna\n",
      "Your score is 21.\n"
     ]
    }
   ],
   "source": [
    "# 🚨 Don't change the code below 👇\n",
    "print(\"Welcome to the Love Calculator!\")\n",
    "name1 = input(\"What is your name? \\n\")\n",
    "name2 = input(\"What is their name? \\n\")\n",
    "# 🚨 Don't change the code above 👆\n",
    "\n",
    "#Write your code below this line 👇\n",
    "\n",
    "# Convert the names to lowercase and concatenate them\n",
    "combined_names = (name1 + name2).lower()\n",
    "\n",
    "# Count the occurrences of the letters T, R, U, E, L, O, V, and E\n",
    "true_count = combined_names.count(\"t\") + combined_names.count(\"r\") + combined_names.count(\"u\") + combined_names.count(\"e\")\n",
    "love_count = combined_names.count(\"l\") + combined_names.count(\"o\") + combined_names.count(\"v\") + combined_names.count(\"e\")\n",
    "\n",
    "# Combine the counts to create the love score\n",
    "love_score = int(str(true_count) + str(love_count))\n",
    "\n",
    "# Determine the message based on the love score\n",
    "if love_score < 10 or love_score > 90:\n",
    "    print(f\"Your score is {love_score}, you go together like coke and mentos.\")\n",
    "elif 40 <= love_score <= 50:\n",
    "    print(f\"Your score is {love_score}, you are alright together.\")\n",
    "else:\n",
    "    print(f\"Your score is {love_score}.\")"
   ]
  },
  {
   "cell_type": "code",
   "execution_count": 9,
   "id": "f0b38c55",
   "metadata": {},
   "outputs": [
    {
     "name": "stdout",
     "output_type": "stream",
     "text": [
      "Welcome to Treasure Island.\n",
      "Your mission is to find the treasure.\n",
      "Choose path (left/right): left\n",
      "Choose path (swim/wait): wait\n",
      "Which door (red, yellow,blue)blue\n",
      "Eaten by beasts. Game Over.\n"
     ]
    }
   ],
   "source": [
    "print(\"Welcome to Treasure Island.\")\n",
    "print(\"Your mission is to find the treasure.\") \n",
    "\n",
    "#https://www.draw.io/?lightbox=1&highlight=0000ff&edit=_blank&layers=1&nav=1&title=Treasure%20Island%20Conditional.drawio#Uhttps%3A%2F%2Fdrive.google.com%2Fuc%3Fid%3D1oDe4ehjWZipYRsVfeAx2HyB7LCQ8_Fvi%26export%3Ddownload\n",
    "\n",
    "#Write your code below this line 👇\n",
    "\n",
    "start = input(\"Choose path (left/right): \")\n",
    "if start == \"right\":\n",
    "    print(\"Fall into a hole. Game over\")\n",
    "elif start == \"left\":\n",
    "    left = input(\"Choose path (swim/wait): \")\n",
    "    if left == \"swim\":\n",
    "        print(\"Attached by trout. Game Over\")\n",
    "    elif left == \"wait\":\n",
    "        door = input(\"Which door (red, yellow,blue)\")\n",
    "        if door == \"red\":\n",
    "            print(\"Burned by fire. Game over.\")\n",
    "        elif door == \"yellow\":\n",
    "            print(\"You Win!\")\n",
    "        elif door == \"blue\":\n",
    "            print(\"Eaten by beasts. Game Over.\")\n",
    "        else:\n",
    "            print(\"Game Over.\")\n",
    "    else: \n",
    "        print(\"Attached by trout. Game Over\")\n",
    "else:\n",
    "    print(\"Fall into a hole. Game over\")"
   ]
  }
 ],
 "metadata": {
  "kernelspec": {
   "display_name": "Python 3 (ipykernel)",
   "language": "python",
   "name": "python3"
  },
  "language_info": {
   "codemirror_mode": {
    "name": "ipython",
    "version": 3
   },
   "file_extension": ".py",
   "mimetype": "text/x-python",
   "name": "python",
   "nbconvert_exporter": "python",
   "pygments_lexer": "ipython3",
   "version": "3.11.4"
  }
 },
 "nbformat": 4,
 "nbformat_minor": 5
}
