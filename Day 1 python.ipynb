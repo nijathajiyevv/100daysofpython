{
 "cells": [
  {
   "cell_type": "markdown",
   "id": "282d1428-986b-45f6-bd44-d5b88980ad08",
   "metadata": {},
   "source": [
    "## printing"
   ]
  },
  {
   "cell_type": "code",
   "execution_count": 1,
   "id": "e117169b-d5d5-4fd9-abb1-19328ed339b1",
   "metadata": {
    "tags": []
   },
   "outputs": [
    {
     "name": "stdout",
     "output_type": "stream",
     "text": [
      "Day 1 - Python Print Function\n",
      "The function is declared like this:\n",
      "print('what to print')\n"
     ]
    }
   ],
   "source": [
    "#Write your code below this line 👇\n",
    "print(\"Day 1 - Python Print Function\")\n",
    "print(\"The function is declared like this:\")\n",
    "print(\"print('what to print')\")"
   ]
  },
  {
   "cell_type": "markdown",
   "id": "e46c5318-a4a0-4b12-a5c4-a6b3c877f447",
   "metadata": {},
   "source": [
    "## debugging practice"
   ]
  },
  {
   "cell_type": "code",
   "execution_count": 2,
   "id": "2dc6a8cd-4960-47b5-99ee-5e47c8955258",
   "metadata": {
    "tags": []
   },
   "outputs": [
    {
     "name": "stdout",
     "output_type": "stream",
     "text": [
      "Day 1 - String Manipulation\n",
      "String Concatenation is done with the \"+\" sign.\n",
      "e.g. print(\"Hello \" + \"world\")\n",
      "New lines can be created with a backslash and n.\n"
     ]
    }
   ],
   "source": [
    "#Fix the code below 👇\n",
    "\n",
    "print(\"Day 1 - String Manipulation\")\n",
    "print('String Concatenation is done with the \"+\" sign.')\n",
    "print('e.g. print(\"Hello \" + \"world\")')\n",
    "print(\"New lines can be created with a backslash and n.\")"
   ]
  },
  {
   "cell_type": "markdown",
   "id": "5b433941-a54b-401f-aa1c-709063ddd4fc",
   "metadata": {},
   "source": [
    "## input function"
   ]
  },
  {
   "cell_type": "code",
   "execution_count": 3,
   "id": "8d984543-8394-4111-beb6-abb6efcb66cd",
   "metadata": {
    "tags": []
   },
   "outputs": [
    {
     "name": "stdin",
     "output_type": "stream",
     "text": [
      "What is your name?  Nijat\n"
     ]
    },
    {
     "name": "stdout",
     "output_type": "stream",
     "text": [
      "5\n"
     ]
    }
   ],
   "source": [
    "name = input(\"What is your name? \")\n",
    "print(len(name))"
   ]
  },
  {
   "cell_type": "markdown",
   "id": "3d8a6eca-538a-4dec-8ff8-c251e7ecd11d",
   "metadata": {},
   "source": [
    "## variables"
   ]
  },
  {
   "cell_type": "code",
   "execution_count": 4,
   "id": "09481015-fd24-4c6b-b181-0a728746b4d4",
   "metadata": {
    "tags": []
   },
   "outputs": [
    {
     "name": "stdin",
     "output_type": "stream",
     "text": [
      "a:  1\n",
      "b:  2\n"
     ]
    },
    {
     "name": "stdout",
     "output_type": "stream",
     "text": [
      "a: 2\n",
      "b: 1\n"
     ]
    }
   ],
   "source": [
    "# 🚨 Don't change the code below 👇\n",
    "a = input(\"a: \")\n",
    "b = input(\"b: \")\n",
    "# 🚨 Don't change the code above 👆\n",
    "\n",
    "####################################\n",
    "#Write your code below this line 👇\n",
    "c = a\n",
    "a = b\n",
    "b = c\n",
    "\n",
    "\n",
    "\n",
    "#Write your code above this line 👆\n",
    "####################################\n",
    "\n",
    "# 🚨 Don't change the code below 👇\n",
    "print(\"a: \" + a)\n",
    "print(\"b: \" + b)"
   ]
  },
  {
   "cell_type": "markdown",
   "id": "b7bd6fa4-9797-4ac9-a6fc-4631af6a546b",
   "metadata": {},
   "source": [
    "## band name generator"
   ]
  },
  {
   "cell_type": "code",
   "execution_count": 5,
   "id": "5cb8e390-0565-4274-ab63-127b6aaa12ff",
   "metadata": {
    "tags": []
   },
   "outputs": [
    {
     "name": "stdout",
     "output_type": "stream",
     "text": [
      "Hello. Welcome to the program\n"
     ]
    },
    {
     "name": "stdin",
     "output_type": "stream",
     "text": [
      "What is your hometown city:  Baku\n",
      "Tell me your pet name:  Poppy\n"
     ]
    },
    {
     "name": "stdout",
     "output_type": "stream",
     "text": [
      "Your new brand name: Baku Poppy\n"
     ]
    }
   ],
   "source": [
    "print(\"Hello. Welcome to the program\")\n",
    "city = input(\"What is your hometown city: \")\n",
    "pet = input(\"Tell me your pet name: \")\n",
    "\n",
    "print(\"Your new brand name: \"+city + \" \"+ pet)"
   ]
  },
  {
   "cell_type": "code",
   "execution_count": null,
   "id": "f050a94c-8377-4c24-b79d-6a488dfe351a",
   "metadata": {},
   "outputs": [],
   "source": []
  }
 ],
 "metadata": {
  "kernelspec": {
   "display_name": "Python 3 (ipykernel)",
   "language": "python",
   "name": "python3"
  },
  "language_info": {
   "codemirror_mode": {
    "name": "ipython",
    "version": 3
   },
   "file_extension": ".py",
   "mimetype": "text/x-python",
   "name": "python",
   "nbconvert_exporter": "python",
   "pygments_lexer": "ipython3",
   "version": "3.11.4"
  }
 },
 "nbformat": 4,
 "nbformat_minor": 5
}
