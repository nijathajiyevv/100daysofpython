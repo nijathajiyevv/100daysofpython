{
 "cells": [
  {
   "cell_type": "code",
   "execution_count": 2,
   "id": "e4b0987f",
   "metadata": {},
   "outputs": [
    {
     "name": "stdout",
     "output_type": "stream",
     "text": [
      "What is your first name? Nijat\n",
      "What is your last name? Hajiyev\n",
      "Nijat Hajiyev\n"
     ]
    }
   ],
   "source": [
    "# Functions with outputs\n",
    "\n",
    "def format_name(f_name, l_name):\n",
    "    if f_name == \"\" or l_name == \"\":\n",
    "        return \"You didn't provide valid inputs.\"\n",
    "    formatted_f_name = f_name.title()\n",
    "    formatted_l_name = l_name.title()\n",
    "    return f\"{formatted_f_name} {formatted_l_name}\"\n",
    "\n",
    "\n",
    "\n",
    "print(format_name(input(\"What is your first name? \"), input(\"What is your last name? \")))\n"
   ]
  },
  {
   "cell_type": "code",
   "execution_count": 3,
   "id": "faf36fc1",
   "metadata": {},
   "outputs": [
    {
     "name": "stdout",
     "output_type": "stream",
     "text": [
      "Enter a year: 2024\n",
      "Enter a month: 2\n",
      "29\n"
     ]
    }
   ],
   "source": [
    "# Calculate how many days in the given year and month\n",
    "def is_leap_year(year):\n",
    "    \"\"\"Identity leap year\"\"\"\n",
    "    if year % 4 == 0:\n",
    "        if year % 100 == 0:\n",
    "            if year % 400 == 0:\n",
    "                return True\n",
    "            else:\n",
    "                return False\n",
    "        else:\n",
    "            return True\n",
    "    else:\n",
    "        return False\n",
    "\n",
    "def days_in_month():\n",
    "    month_days = [31, 28, 31, 30, 31, 30, 31, 31, 30, 31, 30, 31]\n",
    "    if is_leap_year(year) and month == 2:\n",
    "        return 29\n",
    "    else:\n",
    "        return month_days[month - 1]\n",
    "\n",
    "\n",
    "year = int(input(\"Enter a year: \"))\n",
    "month = int(input(\"Enter a month: \"))\n",
    "days = days_in_month()\n",
    "print(days)"
   ]
  },
  {
   "cell_type": "code",
   "execution_count": 4,
   "id": "61c56a56",
   "metadata": {},
   "outputs": [
    {
     "name": "stdout",
     "output_type": "stream",
     "text": [
      "Enter first number: 5\n",
      "+\n",
      "-\n",
      "*\n",
      "/\n",
      "Pick an operation: *\n",
      "Enter second number: 5\n",
      "5.0*5.0=25.0\n",
      "Type 'y' to continue calculating with this answer or type 'n' to start a new calculation, f to exit\n",
      "y\n",
      "+\n",
      "-\n",
      "*\n",
      "/\n",
      "Pick an operation: *\n",
      "Enter second number: 2\n",
      "25.0*2=50.0\n",
      "Type 'y' to continue calculating with this answer or type 'n' to start a new calculation, f to exit\n",
      "n\n",
      "Enter first number: 2\n",
      "+\n",
      "-\n",
      "*\n",
      "/\n",
      "Pick an operation: -\n",
      "Enter second number: 1\n",
      "2.0-1.0=1.0\n",
      "Type 'y' to continue calculating with this answer or type 'n' to start a new calculation, f to exit\n",
      "f\n"
     ]
    }
   ],
   "source": [
    "# Calculator\n",
    "\n",
    "# Add\n",
    "def add(a, b):\n",
    "    return a+b\n",
    "# Subtract\n",
    "def sub(a, b):\n",
    "    return a-b\n",
    "# Multiply\n",
    "def mul(a, b):\n",
    "    return a*b\n",
    "# Divide\n",
    "def div(a, b):\n",
    "    return a/b\n",
    "\n",
    "operations= {\"+\": add, \"-\": sub, \"*\": mul, \"/\": div}\n",
    "\n",
    "def calculation():\n",
    "    num1 = float(input(\"Enter first number: \"))\n",
    "    for symbol in operations:\n",
    "        print(symbol)\n",
    "    operation_symbol = input(\"Pick an operation: \")\n",
    "    if operation_symbol not in operations:\n",
    "        print(\"Invalid operation. Please select from the list above\")\n",
    "        exit()\n",
    "    num2 = float(input(\"Enter second number: \"))\n",
    "    if operation_symbol == \"/\" and num2 == 0:\n",
    "        print(\"Cannot divide by 0\")\n",
    "        exit()\n",
    "\n",
    "    calculation_function = operations[operation_symbol]\n",
    "    answer = calculation_function(num1, num2)\n",
    "    print(f\"{num1}{operation_symbol}{num2}={answer}\")\n",
    "\n",
    "    should_continue = True\n",
    "\n",
    "    while should_continue:\n",
    "        # continue previous calculation with answer\n",
    "        print(\"Type 'y' to continue calculating with this answer or type 'n' to start a new calculation, f to exit\")\n",
    "        continue_calculation = input()\n",
    "        if continue_calculation == \"y\":\n",
    "            num1 = answer\n",
    "            for symbol in operations:\n",
    "                print(symbol)\n",
    "            operation_symbol = input(\"Pick an operation: \")\n",
    "            if operation_symbol not in operations:\n",
    "                print(\"Invalid operation. Please select from the list above\")\n",
    "                exit()\n",
    "            num2 = int(input(\"Enter second number: \"))\n",
    "            calculation_function = operations[operation_symbol]\n",
    "            answer = calculation_function(num1, num2)\n",
    "            print(f\"{num1}{operation_symbol}{num2}={answer}\")\n",
    "        elif continue_calculation == \"n\":\n",
    "            should_continue = False\n",
    "            calculation()\n",
    "        elif continue_calculation == \"f\":\n",
    "            should_continue = False\n",
    "            exit()\n",
    "        else:\n",
    "            print(\"Invalid input. Please try again\")\n",
    "\n",
    "calculation()"
   ]
  }
 ],
 "metadata": {
  "kernelspec": {
   "display_name": "Python 3 (ipykernel)",
   "language": "python",
   "name": "python3"
  },
  "language_info": {
   "codemirror_mode": {
    "name": "ipython",
    "version": 3
   },
   "file_extension": ".py",
   "mimetype": "text/x-python",
   "name": "python",
   "nbconvert_exporter": "python",
   "pygments_lexer": "ipython3",
   "version": "3.11.4"
  }
 },
 "nbformat": 4,
 "nbformat_minor": 5
}
